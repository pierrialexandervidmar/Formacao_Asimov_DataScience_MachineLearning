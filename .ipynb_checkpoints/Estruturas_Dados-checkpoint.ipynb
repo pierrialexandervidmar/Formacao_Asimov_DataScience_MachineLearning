{
 "cells": [
  {
   "cell_type": "code",
   "execution_count": 3,
   "id": "026bef5e-9b3e-4288-bf66-468c467c37c2",
   "metadata": {},
   "outputs": [],
   "source": [
    "meu_dicionario = {\"nome\": \"Paulo\", \"idade\": 29, \"filhos\": [\"joao\", \"maria\"]}"
   ]
  },
  {
   "cell_type": "code",
   "execution_count": 4,
   "id": "683442af-bcc8-4a28-9034-30a7ffd45015",
   "metadata": {},
   "outputs": [],
   "source": [
    "meu_dicionario[\"idade\"] = 31"
   ]
  },
  {
   "cell_type": "code",
   "execution_count": 5,
   "id": "9fb6c1a6-003d-4118-b07a-f6183298ca6b",
   "metadata": {},
   "outputs": [
    {
     "data": {
      "text/plain": [
       "{'nome': 'Paulo', 'idade': 31, 'filhos': ['joao', 'maria']}"
      ]
     },
     "execution_count": 5,
     "metadata": {},
     "output_type": "execute_result"
    }
   ],
   "source": [
    "meu_dicionario"
   ]
  },
  {
   "cell_type": "code",
   "execution_count": 6,
   "id": "e7ff9a67-54e0-402a-84b4-e072eca0cb70",
   "metadata": {},
   "outputs": [
    {
     "data": {
      "text/plain": [
       "31"
      ]
     },
     "execution_count": 6,
     "metadata": {},
     "output_type": "execute_result"
    }
   ],
   "source": [
    "meu_dicionario[\"idade\"]"
   ]
  },
  {
   "cell_type": "code",
   "execution_count": 7,
   "id": "3c43272b-53ef-4dce-911b-e1d9a85934f9",
   "metadata": {},
   "outputs": [
    {
     "data": {
      "text/plain": [
       "'joao'"
      ]
     },
     "execution_count": 7,
     "metadata": {},
     "output_type": "execute_result"
    }
   ],
   "source": [
    "meu_dicionario[\"filhos\"][0]"
   ]
  },
  {
   "cell_type": "code",
   "execution_count": 8,
   "id": "6604ccea-404a-4d57-8218-2d1849676101",
   "metadata": {},
   "outputs": [
    {
     "data": {
      "text/plain": [
       "dict_keys(['nome', 'idade', 'filhos'])"
      ]
     },
     "execution_count": 8,
     "metadata": {},
     "output_type": "execute_result"
    }
   ],
   "source": [
    "meu_dicionario.keys()"
   ]
  },
  {
   "cell_type": "code",
   "execution_count": 9,
   "id": "3e6395bd-897f-4b2d-a179-25f7594ccea4",
   "metadata": {},
   "outputs": [
    {
     "data": {
      "text/plain": [
       "dict_values(['Paulo', 31, ['joao', 'maria']])"
      ]
     },
     "execution_count": 9,
     "metadata": {},
     "output_type": "execute_result"
    }
   ],
   "source": [
    "meu_dicionario.values()"
   ]
  },
  {
   "cell_type": "code",
   "execution_count": 12,
   "id": "033b5684-6947-4a61-ab2a-6d088fe9140a",
   "metadata": {},
   "outputs": [
    {
     "name": "stdout",
     "output_type": "stream",
     "text": [
      "joao\n",
      "maria\n"
     ]
    }
   ],
   "source": [
    "for valor in meu_dicionario['filhos']:\n",
    "    print(valor)"
   ]
  },
  {
   "cell_type": "code",
   "execution_count": 13,
   "id": "ae44b255-f951-40e2-8f2c-034c1c29fdd0",
   "metadata": {},
   "outputs": [],
   "source": [
    "alunos = [[\"Ana\", 10], [\"Carlos\", 9], [\"Maria\", 8]]"
   ]
  },
  {
   "cell_type": "code",
   "execution_count": 15,
   "id": "45a10cbb-7d92-4bcf-982f-b73ea8fd19c4",
   "metadata": {},
   "outputs": [
    {
     "name": "stdout",
     "output_type": "stream",
     "text": [
      "Ana tirou nota 10\n",
      "Carlos tirou nota 9\n",
      "Maria tirou nota 8\n"
     ]
    }
   ],
   "source": [
    "for nome, nota in alunos:\n",
    "    print(f'{nome} tirou nota {nota}')"
   ]
  },
  {
   "cell_type": "code",
   "execution_count": 16,
   "id": "1fcf9314-9511-4dae-ac43-9b21d9a52ea3",
   "metadata": {},
   "outputs": [],
   "source": [
    "alunos_dict = [\n",
    "    {\"nome\": \"ana\", \"nota\": 10},\n",
    "    {\"nome\": \"carlos\", \"nota\": 7},\n",
    "    {\"nome\": \"nicolau\", \"nota\": 8},\n",
    "]"
   ]
  },
  {
   "cell_type": "code",
   "execution_count": 21,
   "id": "d734979e-c2b9-4b89-9004-b8c2cd8d7673",
   "metadata": {},
   "outputs": [
    {
     "name": "stdout",
     "output_type": "stream",
     "text": [
      "ana tirou nota 10\n",
      "carlos tirou nota 7\n",
      "nicolau tirou nota 8\n"
     ]
    }
   ],
   "source": [
    "for registro in alunos_dict:\n",
    "    nome = registro['nome']\n",
    "    nota = registro['nota']\n",
    "\n",
    "    print(f'{nome} tirou nota {nota}')"
   ]
  },
  {
   "cell_type": "code",
   "execution_count": null,
   "id": "6e5a7e34-c791-47e8-b304-079fcec2a9e0",
   "metadata": {},
   "outputs": [],
   "source": []
  }
 ],
 "metadata": {
  "kernelspec": {
   "display_name": "Python 3 (ipykernel)",
   "language": "python",
   "name": "python3"
  },
  "language_info": {
   "codemirror_mode": {
    "name": "ipython",
    "version": 3
   },
   "file_extension": ".py",
   "mimetype": "text/x-python",
   "name": "python",
   "nbconvert_exporter": "python",
   "pygments_lexer": "ipython3",
   "version": "3.12.7"
  }
 },
 "nbformat": 4,
 "nbformat_minor": 5
}
