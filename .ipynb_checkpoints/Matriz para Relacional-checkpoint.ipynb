{
 "cells": [
  {
   "cell_type": "code",
   "execution_count": 1,
   "id": "ba68f4d6-fb21-4864-b98f-8bdd701fd365",
   "metadata": {},
   "outputs": [
    {
     "name": "stdout",
     "output_type": "stream",
     "text": [
      "                                            Produto Transportadora Atende\n",
      "0     Alimentos (Sem refrigeração) - Não perecíveis           Azul    Sim\n",
      "1                              Alimentos perecíveis           Azul    Sim\n",
      "2                                   Ar Condicionado           Azul    Sim\n",
      "3                                  Armas de Airsoft           Azul    Não\n",
      "4                                     Armas de Fogo           Azul    Não\n",
      "...                                             ...            ...    ...\n",
      "2881                                         Tintas        UniLogi    Sim\n",
      "2882                                Tintas em Spray        UniLogi    Sim\n",
      "2883             Utensílios Domésticos (não eletro)        UniLogi    Sim\n",
      "2884                               Vasos Sanitários        UniLogi    Não\n",
      "2885                                      Vestuário        UniLogi    Sim\n",
      "\n",
      "[2886 rows x 3 columns]\n",
      "Arquivo Excel salvo em: tabela_relacional.xlsx\n",
      "Arquivo CSV salvo em: tabela_relacional.csv\n"
     ]
    }
   ],
   "source": [
    "import pandas as pd\n",
    "\n",
    "file_path = 'produto_transportadora.xlsx'\n",
    "df = pd.read_excel(file_path)\n",
    "\n",
    "# Transformar os dados usando o método melt para criar a tabela relacional\n",
    "df_melted = df.melt(id_vars=['Produto'], var_name='Transportadora', value_name='Atende')\n",
    "\n",
    "print(df_melted)\n",
    "\n",
    "output_excel_path = 'tabela_relacional.xlsx'\n",
    "df_melted.to_excel(output_excel_path, index=False)\n",
    "\n",
    "output_csv_path = 'tabela_relacional.csv'\n",
    "df_melted.to_csv(output_csv_path, index=False)\n",
    "\n",
    "print(f'Arquivo Excel salvo em: {output_excel_path}')\n",
    "print(f'Arquivo CSV salvo em: {output_csv_path}')"
   ]
  },
  {
   "cell_type": "code",
   "execution_count": null,
   "id": "0e985cf6-2592-485c-865a-a2b34a4efe06",
   "metadata": {},
   "outputs": [],
   "source": []
  },
  {
   "cell_type": "code",
   "execution_count": null,
   "id": "10e61959-3656-4b3e-b547-5b1a6af2e4fd",
   "metadata": {},
   "outputs": [],
   "source": []
  }
 ],
 "metadata": {
  "kernelspec": {
   "display_name": "Python 3 (ipykernel)",
   "language": "python",
   "name": "python3"
  },
  "language_info": {
   "codemirror_mode": {
    "name": "ipython",
    "version": 3
   },
   "file_extension": ".py",
   "mimetype": "text/x-python",
   "name": "python",
   "nbconvert_exporter": "python",
   "pygments_lexer": "ipython3",
   "version": "3.12.7"
  }
 },
 "nbformat": 4,
 "nbformat_minor": 5
}
